{
 "cells": [
  {
   "cell_type": "code",
   "execution_count": 2,
   "metadata": {
    "collapsed": false
   },
   "outputs": [
    {
     "name": "stdout",
     "output_type": "stream",
     "text": [
      "\n"
     ]
    }
   ],
   "source": [
    "import tweepy\n",
    "from tweepy import OAuthHandler\n",
    "from get_config import get_config\n",
    "\n",
    "env = get_config()\n",
    "\n",
    "consumer_key = env.get('CONSUMER_KEY')\n",
    "consumer_secret = env.get('CONSUMER_SECRET')\n",
    "access_token = env.get('ACCESS_TOKEN')\n",
    "access_secret = env.get('ACCESS_TOKEN_SECRET')\n",
    " \n",
    "auth = OAuthHandler(consumer_key, consumer_secret)\n",
    "auth.set_access_token(access_token, access_secret)\n",
    " \n",
    "api = tweepy.API(auth)"
   ]
  },
  {
   "cell_type": "code",
   "execution_count": 3,
   "metadata": {
    "collapsed": false
   },
   "outputs": [],
   "source": [
    "# pull out 200 most recent tweets\n",
    "# not sure what the page parameter does (but it does affect the output)\n",
    "def one_search():\n",
    "    tweets = api.user_timeline(id=\"@ThisIsFusion\",count=200,page=10,include_rts=True)\n",
    "    all_items=[]\n",
    "    [all_items.append(i) for i in tweets]\n",
    "    return all_items\n",
    "\n",
    "tweets = one_search()"
   ]
  },
  {
   "cell_type": "code",
   "execution_count": 4,
   "metadata": {
    "collapsed": false
   },
   "outputs": [
    {
     "name": "stdout",
     "output_type": "stream",
     "text": [
      "The 5 most retweets\n",
      "\n",
      "      id          frequency\n",
      "(614807708575907840, 1208)\n",
      "(615204562715213824, 120)\n",
      "(614533777159798784, 104)\n",
      "(614877330025119744, 81)\n",
      "(615639709025464320, 53)\n"
     ]
    }
   ],
   "source": [
    "# the most n retweets in the 200 recent tweets\n",
    "def most_retweets(n):\n",
    "    d = {}\n",
    "    for item in tweets:\n",
    "        try:\n",
    "            # filter out retweeted content\n",
    "            if item.retweeted_status:\n",
    "                pass\n",
    "        except:\n",
    "            d[item.id] = item.retweet_count\n",
    "    return sorted(d.items(), key=lambda x: x[1], reverse=True)[:n]\n",
    "\n",
    "most = most_retweets(5)\n",
    "print \"The 5 most retweets\\n\"\n",
    "print \"      id          frequency\"\n",
    "for i in most:\n",
    "    print i"
   ]
  },
  {
   "cell_type": "code",
   "execution_count": 8,
   "metadata": {
    "collapsed": false
   },
   "outputs": [
    {
     "name": "stdout",
     "output_type": "stream",
     "text": [
      "The most retweeted text:\n",
      "RT @ThisIsFusion: People tweet #FreeBree in support of the black woman who removed S.C.’s Confederate flag http://t.co/n2DtA16cRn http://t.…\n",
      "\n",
      "User ids associated with the 91 retweets:\n",
      "[16877020, 2453868779, 97781259, 1950028297, 1681126010, 2770725958, 2339364644, 206264653, 2213807803, 2310771122, 3096761546, 2725212535, 2803939900, 199218897, 1093933434, 2950787838, 849887262, 870667650, 2884916357, 82774113, 3313694963, 3255993631, 855561139, 604726301, 237719164, 122039252, 620616767, 1643437861, 220251523, 32546732, 1676473459, 2252121918, 3077784330, 19012145, 2917748498, 26249813, 535801357, 979514185, 2450404470, 3244592486, 88374158, 1529312899, 27029718, 2844628040, 3225700620, 2329547336, 1585880785, 45885400, 97676329, 117393456, 345616616, 2392323869, 254082700, 1015909742, 256591329, 1062292766, 746607206, 1374133771, 217677533, 66187633, 331166340, 1391643078, 19569085, 3104869754, 586062902, 49976556, 378514674, 2262126988, 2658812380, 125633058, 2452055906, 1044843457, 16899690, 51797445, 35891752, 457596869, 15645208, 253456637, 2878641098, 409349834, 381877243, 1591010473, 190929143, 2382462200, 1380165678, 231851216, 2828277842, 105634140, 2363244511, 577854784, 16190068]\n"
     ]
    }
   ],
   "source": [
    "# first 100 retweet user id list for the nth most retweet\n",
    "def nth_retweet_users(n):\n",
    "    retweets = api.retweets(most[n][0], 100)\n",
    "    users = []\n",
    "    for i in range(len(retweets)):\n",
    "        users.append(retweets[i].user.id)\n",
    "    return users\n",
    "\n",
    "# text for the nth most retweet\n",
    "def nth_retweet_text(n):\n",
    "    return api.retweets(most[n][0])[0].text\n",
    "\n",
    "# most retweet\n",
    "users = nth_retweet_users(0)\n",
    "text = nth_retweet_text(0)\n",
    "\n",
    "print 'The most retweeted text:'\n",
    "print text + '\\n'\n",
    "print 'User ids associated with the %d retweets:' % len(users)\n",
    "print users"
   ]
  },
  {
   "cell_type": "code",
   "execution_count": null,
   "metadata": {
    "collapsed": true
   },
   "outputs": [],
   "source": []
  }
 ],
 "metadata": {
  "kernelspec": {
   "display_name": "Python 2",
   "language": "python",
   "name": "python2"
  },
  "language_info": {
   "codemirror_mode": {
    "name": "ipython",
    "version": 2
   },
   "file_extension": ".py",
   "mimetype": "text/x-python",
   "name": "python",
   "nbconvert_exporter": "python",
   "pygments_lexer": "ipython2",
   "version": "2.7.9"
  }
 },
 "nbformat": 4,
 "nbformat_minor": 0
}
