{
 "cells": [
  {
   "cell_type": "code",
   "execution_count": 57,
   "metadata": {
    "collapsed": false
   },
   "outputs": [],
   "source": [
    "import time\n",
    "import tweepy\n",
    "import operator\n",
    "import pandas as pd\n",
    "from collections import defaultdict\n",
    "\n",
    "from tweepy import OAuthHandler\n",
    "from get_config import get_config\n",
    "\n",
    "\n",
    "\n",
    "env = get_config()\n",
    "\n",
    "consumer_key = env.get('CONSUMER_KEY')\n",
    "consumer_secret = env.get('CONSUMER_SECRET')\n",
    "access_token = env.get('ACCESS_TOKEN')\n",
    "access_secret = env.get('ACCESS_TOKEN_SECRET')\n",
    " \n",
    "auth = OAuthHandler(consumer_key, consumer_secret)\n",
    "auth.set_access_token(access_token, access_secret)\n",
    " \n",
    "api = tweepy.API(auth)"
   ]
  },
  {
   "cell_type": "code",
   "execution_count": 59,
   "metadata": {
    "collapsed": false
   },
   "outputs": [],
   "source": [
    "# pull out 200 most recent tweets\n",
    "# not sure what the page parameter does (but it does affect the output)\n",
    "def one_search():\n",
    "    return api.user_timeline(id=\"@ThisIsFusion\",count=200,page=6,include_rts=True)\n",
    "\n",
    "tweets = one_search()"
   ]
  },
  {
   "cell_type": "code",
   "execution_count": 60,
   "metadata": {
    "collapsed": false
   },
   "outputs": [
    {
     "name": "stdout",
     "output_type": "stream",
     "text": [
      "The 5 most retweets\n",
      "\n",
      "      id          frequency\n",
      "(621405443135410176, 6539)\n",
      "(621334501419954176, 113)\n",
      "(621430450825887744, 96)\n",
      "(621045435680059392, 80)\n",
      "(620943905807290368, 68)\n"
     ]
    }
   ],
   "source": [
    "# the most n retweets in the 200 recent tweets\n",
    "def most_retweets(n):\n",
    "    # to scale it later: filter out viral tweets by other users in fusion timeline\n",
    "    # by checking .retweeted_status\n",
    "    tweets.sort(key=operator.attrgetter('retweet_count'), reverse=True)\n",
    "    return [(t.id, t.retweet_count) for t in tweets[:n]]\n",
    "\n",
    "most = most_retweets(5)\n",
    "print \"The 5 most retweets\\n\"\n",
    "print \"      id          frequency\"\n",
    "for i in most:\n",
    "    print i"
   ]
  },
  {
   "cell_type": "code",
   "execution_count": 50,
   "metadata": {
    "collapsed": false
   },
   "outputs": [],
   "source": [
    "# first 100 retweet user id list for the nth most retweet\n",
    "def retweet_users_of_a_tweet(tweet_id):\n",
    "    retweets = api.retweets(tweet_id, 100)\n",
    "    return [rt.user.id for rt in retweets]\n",
    "\n",
    "# for debugging\n",
    "def retweet_names_of_a_tweet(tweet_id):\n",
    "    retweets = api.retweets(tweet_id, 100)\n",
    "    return [rt.user.name for rt in retweets]\n",
    "\n",
    "# get all followers of a user\n",
    "def followers(user_id):\n",
    "    ids = []\n",
    "    for page in tweepy.Cursor(api.followers_ids, id=user_id).pages():\n",
    "        ids.extend(page)\n",
    "        time.sleep(60)\n",
    "\n",
    "    return ids\n",
    "    \n",
    "# get all following of a user\n",
    "def followings(user_id):\n",
    "    ids = []\n",
    "    for page in tweepy.Cursor(api.friends_ids, id=user_id).pages():\n",
    "        ids.extend(page)\n",
    "        time.sleep(60)\n",
    "\n",
    "    return ids"
   ]
  },
  {
   "cell_type": "markdown",
   "metadata": {},
   "source": [
    "This is the example of how to all call the above functions"
   ]
  },
  {
   "cell_type": "code",
   "execution_count": 89,
   "metadata": {
    "collapsed": false
   },
   "outputs": [
    {
     "name": "stdout",
     "output_type": "stream",
     "text": [
      "CPU times: user 4 µs, sys: 1 µs, total: 5 µs\n",
      "Wall time: 10 µs\n",
      "1365\n"
     ]
    }
   ],
   "source": [
    "# print retweet_users_of_tweet(616115346622296064)\n",
    "# There might be some limitation because of twitter API\n",
    "%time\n",
    "a = followers(2801891267)\n",
    "print len(a)"
   ]
  },
  {
   "cell_type": "markdown",
   "metadata": {},
   "source": [
    "example of getting the network dataframe from an about 100-times retweet\n",
    "\n",
    "key is to contain the first retweet as a root\n",
    "\n",
    "example retweet(id=621430450825887744) has 96 retweets\n",
    "\n",
    "dataframe example:\n",
    "\n",
    "| a       | b           | a_follow_b  |  b_follow_a|\n",
    "| ------------- |:-------------:| -----:| -----:|\n",
    "| user_1      | user_x | 1  |0\n",
    "| user_2      | user_y      |0   |1\n",
    "| ...      | ...      |...    | ...\n",
    "| user_n | user_z     |1    |1"
   ]
  },
  {
   "cell_type": "code",
   "execution_count": 85,
   "metadata": {
    "collapsed": false
   },
   "outputs": [
    {
     "name": "stdout",
     "output_type": "stream",
     "text": [
      "This Vine from the Harvard Innovation Lab perfectly shows how much we now rely on apps https://t.co/ROa7MgGQOe via @TheNextWeb\n",
      "2015-07-15 21:25:39\n",
      "Of 96 retweets, 92 are public\n"
     ]
    },
    {
     "ename": "TweepError",
     "evalue": "[{u'message': u'Rate limit exceeded', u'code': 88}]",
     "output_type": "error",
     "traceback": [
      "\u001b[0;31m---------------------------------------------------------------------------\u001b[0m",
      "\u001b[0;31mTweepError\u001b[0m                                Traceback (most recent call last)",
      "\u001b[0;32m<ipython-input-85-6c8709063dad>\u001b[0m in \u001b[0;36m<module>\u001b[0;34m()\u001b[0m\n\u001b[1;32m     18\u001b[0m     \u001b[0mn\u001b[0m \u001b[0;34m=\u001b[0m \u001b[0;36m0\u001b[0m\u001b[0;34m\u001b[0m\u001b[0m\n\u001b[1;32m     19\u001b[0m     \u001b[0;32mfor\u001b[0m \u001b[0manother\u001b[0m \u001b[0;32min\u001b[0m \u001b[0mretweet_users\u001b[0m\u001b[0;34m:\u001b[0m\u001b[0;34m\u001b[0m\u001b[0m\n\u001b[0;32m---> 20\u001b[0;31m         \u001b[0;32mif\u001b[0m \u001b[0mapi\u001b[0m\u001b[0;34m.\u001b[0m\u001b[0mshow_friendship\u001b[0m\u001b[0;34m(\u001b[0m\u001b[0msource_id\u001b[0m\u001b[0;34m=\u001b[0m\u001b[0muser\u001b[0m\u001b[0;34m,\u001b[0m\u001b[0mtarget_id\u001b[0m\u001b[0;34m=\u001b[0m\u001b[0manother\u001b[0m\u001b[0;34m)\u001b[0m\u001b[0;34m[\u001b[0m\u001b[0;36m0\u001b[0m\u001b[0;34m]\u001b[0m\u001b[0;34m.\u001b[0m\u001b[0mfollowed_by\u001b[0m\u001b[0;34m:\u001b[0m\u001b[0;34m\u001b[0m\u001b[0m\n\u001b[0m\u001b[1;32m     21\u001b[0m             \u001b[0mnet\u001b[0m\u001b[0;34m[\u001b[0m\u001b[0;34m'a'\u001b[0m\u001b[0;34m]\u001b[0m\u001b[0;34m.\u001b[0m\u001b[0mappend\u001b[0m\u001b[0;34m(\u001b[0m\u001b[0muser\u001b[0m\u001b[0;34m)\u001b[0m\u001b[0;34m\u001b[0m\u001b[0m\n\u001b[1;32m     22\u001b[0m             \u001b[0mnet\u001b[0m\u001b[0;34m[\u001b[0m\u001b[0;34m'b'\u001b[0m\u001b[0;34m]\u001b[0m\u001b[0;34m.\u001b[0m\u001b[0mappend\u001b[0m\u001b[0;34m(\u001b[0m\u001b[0manother\u001b[0m\u001b[0;34m)\u001b[0m\u001b[0;34m\u001b[0m\u001b[0m\n",
      "\u001b[0;32m/Users/fangzhoucheng/anaconda/lib/python2.7/site-packages/tweepy/binder.pyc\u001b[0m in \u001b[0;36m_call\u001b[0;34m(*args, **kwargs)\u001b[0m\n\u001b[1;32m    237\u001b[0m             \u001b[0;32mreturn\u001b[0m \u001b[0mmethod\u001b[0m\u001b[0;34m\u001b[0m\u001b[0m\n\u001b[1;32m    238\u001b[0m         \u001b[0;32melse\u001b[0m\u001b[0;34m:\u001b[0m\u001b[0;34m\u001b[0m\u001b[0m\n\u001b[0;32m--> 239\u001b[0;31m             \u001b[0;32mreturn\u001b[0m \u001b[0mmethod\u001b[0m\u001b[0;34m.\u001b[0m\u001b[0mexecute\u001b[0m\u001b[0;34m(\u001b[0m\u001b[0;34m)\u001b[0m\u001b[0;34m\u001b[0m\u001b[0m\n\u001b[0m\u001b[1;32m    240\u001b[0m \u001b[0;34m\u001b[0m\u001b[0m\n\u001b[1;32m    241\u001b[0m     \u001b[0;31m# Set pagination mode\u001b[0m\u001b[0;34m\u001b[0m\u001b[0;34m\u001b[0m\u001b[0m\n",
      "\u001b[0;32m/Users/fangzhoucheng/anaconda/lib/python2.7/site-packages/tweepy/binder.pyc\u001b[0m in \u001b[0;36mexecute\u001b[0;34m(self)\u001b[0m\n\u001b[1;32m    221\u001b[0m                 \u001b[0;32mexcept\u001b[0m \u001b[0mException\u001b[0m\u001b[0;34m:\u001b[0m\u001b[0;34m\u001b[0m\u001b[0m\n\u001b[1;32m    222\u001b[0m                     \u001b[0merror_msg\u001b[0m \u001b[0;34m=\u001b[0m \u001b[0;34m\"Twitter error response: status code = %s\"\u001b[0m \u001b[0;34m%\u001b[0m \u001b[0mresp\u001b[0m\u001b[0;34m.\u001b[0m\u001b[0mstatus_code\u001b[0m\u001b[0;34m\u001b[0m\u001b[0m\n\u001b[0;32m--> 223\u001b[0;31m                 \u001b[0;32mraise\u001b[0m \u001b[0mTweepError\u001b[0m\u001b[0;34m(\u001b[0m\u001b[0merror_msg\u001b[0m\u001b[0;34m,\u001b[0m \u001b[0mresp\u001b[0m\u001b[0;34m)\u001b[0m\u001b[0;34m\u001b[0m\u001b[0m\n\u001b[0m\u001b[1;32m    224\u001b[0m \u001b[0;34m\u001b[0m\u001b[0m\n\u001b[1;32m    225\u001b[0m             \u001b[0;31m# Parse the response payload\u001b[0m\u001b[0;34m\u001b[0m\u001b[0;34m\u001b[0m\u001b[0m\n",
      "\u001b[0;31mTweepError\u001b[0m: [{u'message': u'Rate limit exceeded', u'code': 88}]"
     ]
    }
   ],
   "source": [
    "rt_users = retweet_users_of_a_tweet(621430450825887744)\n",
    "print api.get_status(621430450825887744).text\n",
    "print api.get_status(621430450825887744).created_at\n",
    "print 'Of 96 retweets, %d are public' % len(rt_users)\n",
    "\n",
    "# from the most to least recent\n",
    "# print retweet_names_of_a_tweet(621430450825887744)\n",
    "retweet_users = retweet_users_of_a_tweet(621430450825887744)\n",
    "\n",
    "net = defaultdict(list)\n",
    "n = 0\n",
    "for user in retweet_users:\n",
    "    retweet_users.pop(retweet_users.index(user))\n",
    "    n = 0\n",
    "    for another in retweet_users:\n",
    "        if api.show_friendship(source_id=user,target_id=another)[0].followed_by:\n",
    "            net['a'].append(user)\n",
    "            net['b'].append(another)\n",
    "            net['a_follow_b'].append(1)\n",
    "            if api.show_friendship(source_id=user,target_id=another)[0].following:\n",
    "                net['b_follow_a'].append(1)\n",
    "            else:\n",
    "                net['b_follow_a'].append(0)\n",
    "        elif api.show_friendship(source_id=user,target_id=another)[0].following:\n",
    "            net['a'].append(user)\n",
    "            net['b'].append(another)\n",
    "            net['a_follow_b'].append(0)\n",
    "            net['b_follow_a'].append(1)\n",
    "        print 'finished %d friendship lookup for one user' % n\n",
    "        time.sleep(1)\n",
    "    n += 1\n",
    "    print 'finished %d of 92 users' % n\n",
    "    \n",
    "df = pd.DataFrame(net)\n",
    "df.to_csv('net.csv', sep='\\t', encoding='utf-8')"
   ]
  }
 ],
 "metadata": {
  "kernelspec": {
   "display_name": "Python 2",
   "language": "python",
   "name": "python2"
  },
  "language_info": {
   "codemirror_mode": {
    "name": "ipython",
    "version": 2
   },
   "file_extension": ".py",
   "mimetype": "text/x-python",
   "name": "python",
   "nbconvert_exporter": "python",
   "pygments_lexer": "ipython2",
   "version": "2.7.10"
  }
 },
 "nbformat": 4,
 "nbformat_minor": 0
}
